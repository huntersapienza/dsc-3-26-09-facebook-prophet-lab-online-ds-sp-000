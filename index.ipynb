{
 "cells": [
  {
   "cell_type": "markdown",
   "metadata": {},
   "source": [
    "# Facebook Prophet - Lab\n",
    "\n",
    "## Introduction\n",
    "\n",
    "In the last lab, we learnt how to visualize and manipulate time series data, and how to use the ARIMA modelling to produce forecasts from time-series data. We also learnt how the conclude a correct parametrization of ARIMA models. This can be a complicated process, and while statistical programming languages such a R provide automated ways to solve this issue, but those have yet to be officially ported over to Python. \n",
    "\n",
    "Fortunately, the Data Science team at Facebook recently published a new method called prophet, which enables data analysts and developers alike to perform forecasting at scale in Python. We would encourage you to read [this article](https://research.fb.com/prophet-forecasting-at-scale/) by Facebook explaining how prophet simplifies the forecasting process and provides an improved predictive ability. \n",
    "\n",
    "## Objectives\n",
    "\n",
    "* Understand the difference between ARIMA and Additive Synthesis for time series forecasting\n",
    "* Model a time series object using prophet library \n",
    "* Make predictions for future and compare the approach with previously seen techniques\n",
    "\n",
    "## Facebook Prophet\n",
    "\n",
    "Facebook prophet uses an elegant yet simple method for analyzing and predicting periodic data known as the **additive modelling**. The idea is straightforward: represent a time-series as a combination of patterns at different scales such as daily, weekly, seasonally, and yearly, along with an overall trend. Your energy use might rise in the summer and decrease in the winter, but have an overall decreasing trend as you increase the energy efficiency of your home. An additive model can show us both patterns/trends and make predictions based on these observations.\n",
    "\n",
    "The following image shows an additive model decomposition of a time-series into an overall trend, yearly trend, and weekly trend.\n",
    "\n",
    "![](https://research.fb.com/wp-content/uploads/2017/02/prophet_example_for_post2.png?w=648)\n",
    "\n",
    "*“Prophet has been a key piece to improving Facebook’s ability to create a large number of trustworthy forecasts used for decision-making and even in product features.”*\n",
    "\n",
    "In order to compute its forecasts, the fbprophet library relies on the STAN programming language. Before installing fbprophet, we need to make sure that the pystan Python wrapper to STAN is installed. We shall first install `pystan` and `fbprophet` using `!pip install`."
   ]
  },
  {
   "cell_type": "code",
   "execution_count": 5,
   "metadata": {},
   "outputs": [
    {
     "name": "stdout",
     "output_type": "stream",
     "text": [
      "Requirement already satisfied: pystan in /Users/huntersapienza/anaconda3/lib/python3.7/site-packages (2.19.0.0)\n",
      "Requirement already satisfied: Cython!=0.25.1,>=0.22 in /Users/huntersapienza/anaconda3/lib/python3.7/site-packages (from pystan) (0.28.5)\n",
      "Requirement already satisfied: numpy>=1.7 in /Users/huntersapienza/anaconda3/lib/python3.7/site-packages (from pystan) (1.15.1)\n",
      "\u001b[33mYou are using pip version 10.0.1, however version 19.0.3 is available.\n",
      "You should consider upgrading via the 'pip install --upgrade pip' command.\u001b[0m\n"
     ]
    }
   ],
   "source": [
    "!pip install pystan"
   ]
  },
  {
   "cell_type": "code",
   "execution_count": 4,
   "metadata": {},
   "outputs": [
    {
     "name": "stdout",
     "output_type": "stream",
     "text": [
      "Collecting pyhamcrest\n",
      "\u001b[?25l  Downloading https://files.pythonhosted.org/packages/9a/d5/d37fd731b7d0e91afcc84577edeccf4638b4f9b82f5ffe2f8b62e2ddc609/PyHamcrest-1.9.0-py2.py3-none-any.whl (52kB)\n",
      "\u001b[K    100% |████████████████████████████████| 61kB 464kB/s ta 0:00:01\n",
      "\u001b[?25hRequirement already satisfied: six in /Users/huntersapienza/anaconda3/lib/python3.7/site-packages (from pyhamcrest) (1.11.0)\n",
      "Requirement already satisfied: setuptools in /Users/huntersapienza/anaconda3/lib/python3.7/site-packages (from pyhamcrest) (40.2.0)\n",
      "Installing collected packages: pyhamcrest\n",
      "Successfully installed pyhamcrest-1.9.0\n",
      "\u001b[33mYou are using pip version 10.0.1, however version 19.0.3 is available.\n",
      "You should consider upgrading via the 'pip install --upgrade pip' command.\u001b[0m\n"
     ]
    }
   ],
   "source": [
    "!pip install pyhamcrest"
   ]
  },
  {
   "cell_type": "code",
   "execution_count": 8,
   "metadata": {},
   "outputs": [
    {
     "name": "stdout",
     "output_type": "stream",
     "text": [
      "Collecting pip\n",
      "\u001b[?25l  Downloading https://files.pythonhosted.org/packages/d8/f3/413bab4ff08e1fc4828dfc59996d721917df8e8583ea85385d51125dceff/pip-19.0.3-py2.py3-none-any.whl (1.4MB)\n",
      "\u001b[K    100% |████████████████████████████████| 1.4MB 2.1MB/s ta 0:00:01\n",
      "\u001b[?25hInstalling collected packages: pip\n",
      "  Found existing installation: pip 10.0.1\n",
      "    Uninstalling pip-10.0.1:\n",
      "      Successfully uninstalled pip-10.0.1\n",
      "Successfully installed pip-19.0.3\n"
     ]
    }
   ],
   "source": [
    "!pip install --upgrade pip"
   ]
  },
  {
   "cell_type": "code",
   "execution_count": 9,
   "metadata": {},
   "outputs": [
    {
     "name": "stdout",
     "output_type": "stream",
     "text": [
      "Collecting fbprophet\n",
      "  Using cached https://files.pythonhosted.org/packages/9b/a1/fef4ce00acbc28e75c0d33f60c9777527c4295656903b00ac4c9525cef7f/fbprophet-0.4.post2.tar.gz\n",
      "Requirement already satisfied: Cython>=0.22 in /Users/huntersapienza/anaconda3/lib/python3.7/site-packages (from fbprophet) (0.28.5)\n",
      "Requirement already satisfied: pystan>=2.14 in /Users/huntersapienza/anaconda3/lib/python3.7/site-packages (from fbprophet) (2.19.0.0)\n",
      "Requirement already satisfied: numpy>=1.10.0 in /Users/huntersapienza/anaconda3/lib/python3.7/site-packages (from fbprophet) (1.15.1)\n",
      "Requirement already satisfied: pandas>=0.20.1 in /Users/huntersapienza/anaconda3/lib/python3.7/site-packages (from fbprophet) (0.23.4)\n",
      "Requirement already satisfied: matplotlib>=2.0.0 in /Users/huntersapienza/anaconda3/lib/python3.7/site-packages (from fbprophet) (2.2.3)\n",
      "Requirement already satisfied: lunardate>=0.1.5 in /Users/huntersapienza/anaconda3/lib/python3.7/site-packages (from fbprophet) (0.2.0)\n",
      "Collecting convertdate>=2.1.2 (from fbprophet)\n",
      "  Using cached https://files.pythonhosted.org/packages/74/83/d0fa07078f4d4ae473a89d7d521aafc66d82641ea0af0ef04a47052e8f17/convertdate-2.1.3-py2.py3-none-any.whl\n",
      "Collecting holidays>=0.9.5 (from fbprophet)\n",
      "Collecting setuptools-git>=1.2 (from fbprophet)\n",
      "  Using cached https://files.pythonhosted.org/packages/05/97/dd99fa9c0d9627a7b3c103a00f1566d8193aca8d473884ed258cca82b06f/setuptools_git-1.2-py2.py3-none-any.whl\n",
      "Requirement already satisfied: python-dateutil>=2.5.0 in /Users/huntersapienza/anaconda3/lib/python3.7/site-packages (from pandas>=0.20.1->fbprophet) (2.7.3)\n",
      "Requirement already satisfied: pytz>=2011k in /Users/huntersapienza/anaconda3/lib/python3.7/site-packages (from pandas>=0.20.1->fbprophet) (2018.5)\n",
      "Requirement already satisfied: cycler>=0.10 in /Users/huntersapienza/anaconda3/lib/python3.7/site-packages (from matplotlib>=2.0.0->fbprophet) (0.10.0)\n",
      "Requirement already satisfied: pyparsing!=2.0.4,!=2.1.2,!=2.1.6,>=2.0.1 in /Users/huntersapienza/anaconda3/lib/python3.7/site-packages (from matplotlib>=2.0.0->fbprophet) (2.2.0)\n",
      "Requirement already satisfied: six>=1.10 in /Users/huntersapienza/anaconda3/lib/python3.7/site-packages (from matplotlib>=2.0.0->fbprophet) (1.11.0)\n",
      "Requirement already satisfied: kiwisolver>=1.0.1 in /Users/huntersapienza/anaconda3/lib/python3.7/site-packages (from matplotlib>=2.0.0->fbprophet) (1.0.1)\n",
      "Collecting ephem<3.8,>=3.7.5.3 (from convertdate>=2.1.2->fbprophet)\n",
      "  Using cached https://files.pythonhosted.org/packages/c3/2c/9e1a815add6c222a0d4bf7c644e095471a934a39bc90c201f9550a8f7f14/ephem-3.7.6.0.tar.gz\n",
      "Requirement already satisfied: setuptools in /Users/huntersapienza/anaconda3/lib/python3.7/site-packages (from kiwisolver>=1.0.1->matplotlib>=2.0.0->fbprophet) (40.2.0)\n",
      "Building wheels for collected packages: fbprophet, ephem\n",
      "  Building wheel for fbprophet (setup.py) ... \u001b[?25lerror\n",
      "  Complete output from command /Users/huntersapienza/anaconda3/bin/python -u -c \"import setuptools, tokenize;__file__='/private/var/folders/ld/7wh0qtq11w59j1kd0dq1kcwm0000gn/T/pip-install-5x8e8zpu/fbprophet/setup.py';f=getattr(tokenize, 'open', open)(__file__);code=f.read().replace('\\r\\n', '\\n');f.close();exec(compile(code, __file__, 'exec'))\" bdist_wheel -d /private/var/folders/ld/7wh0qtq11w59j1kd0dq1kcwm0000gn/T/pip-wheel-qi1y3qdg --python-tag cp37:\n",
      "  running bdist_wheel\n",
      "  running build\n",
      "  running build_py\n",
      "  creating build\n",
      "  creating build/lib\n",
      "  creating build/lib/fbprophet\n",
      "  creating build/lib/fbprophet/stan_model\n",
      "  INFO:pystan:COMPILING THE C++ CODE FOR MODEL anon_model_861b75c6337e237650a61ae58c4385ef NOW.\n",
      "  error: command 'gcc' failed with exit status 1\n",
      "  \n",
      "  ----------------------------------------\n",
      "\u001b[31m  Failed building wheel for fbprophet\u001b[0m\n",
      "\u001b[?25h  Running setup.py clean for fbprophet\n",
      "  Building wheel for ephem (setup.py) ... \u001b[?25lerror\n",
      "  Complete output from command /Users/huntersapienza/anaconda3/bin/python -u -c \"import setuptools, tokenize;__file__='/private/var/folders/ld/7wh0qtq11w59j1kd0dq1kcwm0000gn/T/pip-install-5x8e8zpu/ephem/setup.py';f=getattr(tokenize, 'open', open)(__file__);code=f.read().replace('\\r\\n', '\\n');f.close();exec(compile(code, __file__, 'exec'))\" bdist_wheel -d /private/var/folders/ld/7wh0qtq11w59j1kd0dq1kcwm0000gn/T/pip-wheel-yyl4j9f5 --python-tag cp37:\n",
      "  running bdist_wheel\n",
      "  running build\n",
      "  running build_py\n",
      "  creating build\n",
      "  creating build/lib.macosx-10.7-x86_64-3.7\n",
      "  creating build/lib.macosx-10.7-x86_64-3.7/ephem\n",
      "  copying ephem/__init__.py -> build/lib.macosx-10.7-x86_64-3.7/ephem\n",
      "  copying ephem/stars.py -> build/lib.macosx-10.7-x86_64-3.7/ephem\n",
      "  copying ephem/cities.py -> build/lib.macosx-10.7-x86_64-3.7/ephem\n",
      "  creating build/lib.macosx-10.7-x86_64-3.7/ephem/tests\n",
      "  copying ephem/tests/test_usno_equinoxes.py -> build/lib.macosx-10.7-x86_64-3.7/ephem/tests\n",
      "  copying ephem/tests/test_stars.py -> build/lib.macosx-10.7-x86_64-3.7/ephem/tests\n",
      "  copying ephem/tests/test_cities.py -> build/lib.macosx-10.7-x86_64-3.7/ephem/tests\n",
      "  copying ephem/tests/test_dates.py -> build/lib.macosx-10.7-x86_64-3.7/ephem/tests\n",
      "  copying ephem/tests/test_launchpad_244811.py -> build/lib.macosx-10.7-x86_64-3.7/ephem/tests\n",
      "  copying ephem/tests/__init__.py -> build/lib.macosx-10.7-x86_64-3.7/ephem/tests\n",
      "  copying ephem/tests/test_observers.py -> build/lib.macosx-10.7-x86_64-3.7/ephem/tests\n",
      "  copying ephem/tests/test_launchpad_236872.py -> build/lib.macosx-10.7-x86_64-3.7/ephem/tests\n",
      "  copying ephem/tests/test_jpl.py -> build/lib.macosx-10.7-x86_64-3.7/ephem/tests\n",
      "  copying ephem/tests/test_locales.py -> build/lib.macosx-10.7-x86_64-3.7/ephem/tests\n",
      "  copying ephem/tests/test_rst.py -> build/lib.macosx-10.7-x86_64-3.7/ephem/tests\n",
      "  copying ephem/tests/test_github_issues.py -> build/lib.macosx-10.7-x86_64-3.7/ephem/tests\n",
      "  copying ephem/tests/test_usno.py -> build/lib.macosx-10.7-x86_64-3.7/ephem/tests\n",
      "  copying ephem/tests/test_bodies.py -> build/lib.macosx-10.7-x86_64-3.7/ephem/tests\n",
      "  copying ephem/tests/test_constants.py -> build/lib.macosx-10.7-x86_64-3.7/ephem/tests\n",
      "  copying ephem/tests/test_satellite.py -> build/lib.macosx-10.7-x86_64-3.7/ephem/tests\n",
      "  copying ephem/tests/test_angles.py -> build/lib.macosx-10.7-x86_64-3.7/ephem/tests\n",
      "  creating build/lib.macosx-10.7-x86_64-3.7/ephem/doc\n",
      "  copying ephem/doc/angle.rst -> build/lib.macosx-10.7-x86_64-3.7/ephem/doc\n",
      "  copying ephem/doc/index.rst -> build/lib.macosx-10.7-x86_64-3.7/ephem/doc\n",
      "  copying ephem/doc/reference.rst -> build/lib.macosx-10.7-x86_64-3.7/ephem/doc\n",
      "  copying ephem/doc/tutorial.rst -> build/lib.macosx-10.7-x86_64-3.7/ephem/doc\n",
      "  copying ephem/doc/examples.rst -> build/lib.macosx-10.7-x86_64-3.7/ephem/doc\n",
      "  copying ephem/doc/coordinates.rst -> build/lib.macosx-10.7-x86_64-3.7/ephem/doc\n",
      "  copying ephem/doc/quick.rst -> build/lib.macosx-10.7-x86_64-3.7/ephem/doc\n",
      "  copying ephem/doc/rise-set.rst -> build/lib.macosx-10.7-x86_64-3.7/ephem/doc\n",
      "  copying ephem/doc/date.rst -> build/lib.macosx-10.7-x86_64-3.7/ephem/doc\n",
      "  copying ephem/doc/CHANGELOG.rst -> build/lib.macosx-10.7-x86_64-3.7/ephem/doc\n",
      "  copying ephem/doc/radec.rst -> build/lib.macosx-10.7-x86_64-3.7/ephem/doc\n",
      "  copying ephem/doc/faq.rst -> build/lib.macosx-10.7-x86_64-3.7/ephem/doc\n",
      "  copying ephem/doc/newton.rst -> build/lib.macosx-10.7-x86_64-3.7/ephem/doc\n",
      "  copying ephem/doc/catalogs.rst -> build/lib.macosx-10.7-x86_64-3.7/ephem/doc\n",
      "  creating build/lib.macosx-10.7-x86_64-3.7/ephem/tests/jpl\n",
      "  copying ephem/tests/jpl/phobos.txt -> build/lib.macosx-10.7-x86_64-3.7/ephem/tests/jpl\n",
      "  copying ephem/tests/jpl/europa.txt -> build/lib.macosx-10.7-x86_64-3.7/ephem/tests/jpl\n",
      "  copying ephem/tests/jpl/uranus.txt -> build/lib.macosx-10.7-x86_64-3.7/ephem/tests/jpl\n",
      "  copying ephem/tests/jpl/jupiter.txt -> build/lib.macosx-10.7-x86_64-3.7/ephem/tests/jpl\n",
      "  copying ephem/tests/jpl/hyperion.txt -> build/lib.macosx-10.7-x86_64-3.7/ephem/tests/jpl\n",
      "  copying ephem/tests/jpl/oberon.txt -> build/lib.macosx-10.7-x86_64-3.7/ephem/tests/jpl\n",
      "  copying ephem/tests/jpl/mars.txt -> build/lib.macosx-10.7-x86_64-3.7/ephem/tests/jpl\n",
      "  copying ephem/tests/jpl/saturn.txt -> build/lib.macosx-10.7-x86_64-3.7/ephem/tests/jpl\n",
      "  copying ephem/tests/jpl/neptune.txt -> build/lib.macosx-10.7-x86_64-3.7/ephem/tests/jpl\n",
      "  creating build/lib.macosx-10.7-x86_64-3.7/ephem/tests/usno\n",
      "  copying ephem/tests/usno/apptopo_deneb.txt -> build/lib.macosx-10.7-x86_64-3.7/ephem/tests/usno\n",
      "  copying ephem/tests/usno/astrom_mercury.txt -> build/lib.macosx-10.7-x86_64-3.7/ephem/tests/usno\n",
      "  copying ephem/tests/usno/appgeo_deneb.txt -> build/lib.macosx-10.7-x86_64-3.7/ephem/tests/usno\n",
      "  copying ephem/tests/usno/apptopo_moon.txt -> build/lib.macosx-10.7-x86_64-3.7/ephem/tests/usno\n",
      "  copying ephem/tests/usno/risettran_rigel.txt -> build/lib.macosx-10.7-x86_64-3.7/ephem/tests/usno\n",
      "  copying ephem/tests/usno/risettran_moon.txt -> build/lib.macosx-10.7-x86_64-3.7/ephem/tests/usno\n",
      "  copying ephem/tests/usno/astrom_neptune.txt -> build/lib.macosx-10.7-x86_64-3.7/ephem/tests/usno\n",
      "  copying ephem/tests/usno/riset_sun.txt -> build/lib.macosx-10.7-x86_64-3.7/ephem/tests/usno\n",
      "  copying ephem/tests/usno/apptopo_sun.txt -> build/lib.macosx-10.7-x86_64-3.7/ephem/tests/usno\n",
      "  copying ephem/tests/usno/appgeo_moon.txt -> build/lib.macosx-10.7-x86_64-3.7/ephem/tests/usno\n",
      "  copying ephem/tests/usno/appgeo_jupiter.txt -> build/lib.macosx-10.7-x86_64-3.7/ephem/tests/usno\n",
      "  copying ephem/tests/usno/astrom_antares.txt -> build/lib.macosx-10.7-x86_64-3.7/ephem/tests/usno\n",
      "  copying ephem/tests/usno/moon_phases.txt -> build/lib.macosx-10.7-x86_64-3.7/ephem/tests/usno\n",
      "  copying ephem/tests/usno/riset_moon.txt -> build/lib.macosx-10.7-x86_64-3.7/ephem/tests/usno\n",
      "  copying ephem/tests/usno/appgeo_sun.txt -> build/lib.macosx-10.7-x86_64-3.7/ephem/tests/usno\n",
      "  running build_ext\n",
      "  building 'ephem._libastro' extension\n",
      "  creating build/temp.macosx-10.7-x86_64-3.7\n",
      "  creating build/temp.macosx-10.7-x86_64-3.7/extensions\n",
      "  creating build/temp.macosx-10.7-x86_64-3.7/libastro-3.7.6\n",
      "  creating build/temp.macosx-10.7-x86_64-3.7/extensions/data\n",
      "  gcc -Wno-unused-result -Wsign-compare -Wunreachable-code -DNDEBUG -g -fwrapv -O3 -Wall -Wstrict-prototypes -I/Users/huntersapienza/anaconda3/include -arch x86_64 -I/Users/huntersapienza/anaconda3/include -arch x86_64 -Ilibastro-3.7.6 -I/Users/huntersapienza/anaconda3/include/python3.7m -c extensions/_libastro.c -o build/temp.macosx-10.7-x86_64-3.7/extensions/_libastro.o\n",
      "  xcrun: error: invalid active developer path (/Library/Developer/CommandLineTools), missing xcrun at: /Library/Developer/CommandLineTools/usr/bin/xcrun\n",
      "  error: command 'gcc' failed with exit status 1\n",
      "  \n",
      "  ----------------------------------------\n",
      "\u001b[31m  Failed building wheel for ephem\u001b[0m\n",
      "\u001b[?25h  Running setup.py clean for ephem\n"
     ]
    },
    {
     "name": "stdout",
     "output_type": "stream",
     "text": [
      "Failed to build fbprophet ephem\n",
      "Installing collected packages: ephem, convertdate, holidays, setuptools-git, fbprophet\n",
      "  Running setup.py install for ephem ... \u001b[?25lerror\n",
      "    Complete output from command /Users/huntersapienza/anaconda3/bin/python -u -c \"import setuptools, tokenize;__file__='/private/var/folders/ld/7wh0qtq11w59j1kd0dq1kcwm0000gn/T/pip-install-5x8e8zpu/ephem/setup.py';f=getattr(tokenize, 'open', open)(__file__);code=f.read().replace('\\r\\n', '\\n');f.close();exec(compile(code, __file__, 'exec'))\" install --record /private/var/folders/ld/7wh0qtq11w59j1kd0dq1kcwm0000gn/T/pip-record-p7zospwa/install-record.txt --single-version-externally-managed --compile:\n",
      "    running install\n",
      "    running build\n",
      "    running build_py\n",
      "    creating build\n",
      "    creating build/lib.macosx-10.7-x86_64-3.7\n",
      "    creating build/lib.macosx-10.7-x86_64-3.7/ephem\n",
      "    copying ephem/__init__.py -> build/lib.macosx-10.7-x86_64-3.7/ephem\n",
      "    copying ephem/stars.py -> build/lib.macosx-10.7-x86_64-3.7/ephem\n",
      "    copying ephem/cities.py -> build/lib.macosx-10.7-x86_64-3.7/ephem\n",
      "    creating build/lib.macosx-10.7-x86_64-3.7/ephem/tests\n",
      "    copying ephem/tests/test_usno_equinoxes.py -> build/lib.macosx-10.7-x86_64-3.7/ephem/tests\n",
      "    copying ephem/tests/test_stars.py -> build/lib.macosx-10.7-x86_64-3.7/ephem/tests\n",
      "    copying ephem/tests/test_cities.py -> build/lib.macosx-10.7-x86_64-3.7/ephem/tests\n",
      "    copying ephem/tests/test_dates.py -> build/lib.macosx-10.7-x86_64-3.7/ephem/tests\n",
      "    copying ephem/tests/test_launchpad_244811.py -> build/lib.macosx-10.7-x86_64-3.7/ephem/tests\n",
      "    copying ephem/tests/__init__.py -> build/lib.macosx-10.7-x86_64-3.7/ephem/tests\n",
      "    copying ephem/tests/test_observers.py -> build/lib.macosx-10.7-x86_64-3.7/ephem/tests\n",
      "    copying ephem/tests/test_launchpad_236872.py -> build/lib.macosx-10.7-x86_64-3.7/ephem/tests\n",
      "    copying ephem/tests/test_jpl.py -> build/lib.macosx-10.7-x86_64-3.7/ephem/tests\n",
      "    copying ephem/tests/test_locales.py -> build/lib.macosx-10.7-x86_64-3.7/ephem/tests\n",
      "    copying ephem/tests/test_rst.py -> build/lib.macosx-10.7-x86_64-3.7/ephem/tests\n",
      "    copying ephem/tests/test_github_issues.py -> build/lib.macosx-10.7-x86_64-3.7/ephem/tests\n",
      "    copying ephem/tests/test_usno.py -> build/lib.macosx-10.7-x86_64-3.7/ephem/tests\n",
      "    copying ephem/tests/test_bodies.py -> build/lib.macosx-10.7-x86_64-3.7/ephem/tests\n",
      "    copying ephem/tests/test_constants.py -> build/lib.macosx-10.7-x86_64-3.7/ephem/tests\n",
      "    copying ephem/tests/test_satellite.py -> build/lib.macosx-10.7-x86_64-3.7/ephem/tests\n",
      "    copying ephem/tests/test_angles.py -> build/lib.macosx-10.7-x86_64-3.7/ephem/tests\n",
      "    creating build/lib.macosx-10.7-x86_64-3.7/ephem/doc\n",
      "    copying ephem/doc/angle.rst -> build/lib.macosx-10.7-x86_64-3.7/ephem/doc\n",
      "    copying ephem/doc/index.rst -> build/lib.macosx-10.7-x86_64-3.7/ephem/doc\n",
      "    copying ephem/doc/reference.rst -> build/lib.macosx-10.7-x86_64-3.7/ephem/doc\n",
      "    copying ephem/doc/tutorial.rst -> build/lib.macosx-10.7-x86_64-3.7/ephem/doc\n",
      "    copying ephem/doc/examples.rst -> build/lib.macosx-10.7-x86_64-3.7/ephem/doc\n",
      "    copying ephem/doc/coordinates.rst -> build/lib.macosx-10.7-x86_64-3.7/ephem/doc\n",
      "    copying ephem/doc/quick.rst -> build/lib.macosx-10.7-x86_64-3.7/ephem/doc\n",
      "    copying ephem/doc/rise-set.rst -> build/lib.macosx-10.7-x86_64-3.7/ephem/doc\n",
      "    copying ephem/doc/date.rst -> build/lib.macosx-10.7-x86_64-3.7/ephem/doc\n",
      "    copying ephem/doc/CHANGELOG.rst -> build/lib.macosx-10.7-x86_64-3.7/ephem/doc\n",
      "    copying ephem/doc/radec.rst -> build/lib.macosx-10.7-x86_64-3.7/ephem/doc\n",
      "    copying ephem/doc/faq.rst -> build/lib.macosx-10.7-x86_64-3.7/ephem/doc\n",
      "    copying ephem/doc/newton.rst -> build/lib.macosx-10.7-x86_64-3.7/ephem/doc\n",
      "    copying ephem/doc/catalogs.rst -> build/lib.macosx-10.7-x86_64-3.7/ephem/doc\n",
      "    creating build/lib.macosx-10.7-x86_64-3.7/ephem/tests/jpl\n",
      "    copying ephem/tests/jpl/phobos.txt -> build/lib.macosx-10.7-x86_64-3.7/ephem/tests/jpl\n",
      "    copying ephem/tests/jpl/europa.txt -> build/lib.macosx-10.7-x86_64-3.7/ephem/tests/jpl\n",
      "    copying ephem/tests/jpl/uranus.txt -> build/lib.macosx-10.7-x86_64-3.7/ephem/tests/jpl\n",
      "    copying ephem/tests/jpl/jupiter.txt -> build/lib.macosx-10.7-x86_64-3.7/ephem/tests/jpl\n",
      "    copying ephem/tests/jpl/hyperion.txt -> build/lib.macosx-10.7-x86_64-3.7/ephem/tests/jpl\n",
      "    copying ephem/tests/jpl/oberon.txt -> build/lib.macosx-10.7-x86_64-3.7/ephem/tests/jpl\n",
      "    copying ephem/tests/jpl/mars.txt -> build/lib.macosx-10.7-x86_64-3.7/ephem/tests/jpl\n",
      "    copying ephem/tests/jpl/saturn.txt -> build/lib.macosx-10.7-x86_64-3.7/ephem/tests/jpl\n",
      "    copying ephem/tests/jpl/neptune.txt -> build/lib.macosx-10.7-x86_64-3.7/ephem/tests/jpl\n",
      "    creating build/lib.macosx-10.7-x86_64-3.7/ephem/tests/usno\n",
      "    copying ephem/tests/usno/apptopo_deneb.txt -> build/lib.macosx-10.7-x86_64-3.7/ephem/tests/usno\n",
      "    copying ephem/tests/usno/astrom_mercury.txt -> build/lib.macosx-10.7-x86_64-3.7/ephem/tests/usno\n",
      "    copying ephem/tests/usno/appgeo_deneb.txt -> build/lib.macosx-10.7-x86_64-3.7/ephem/tests/usno\n",
      "    copying ephem/tests/usno/apptopo_moon.txt -> build/lib.macosx-10.7-x86_64-3.7/ephem/tests/usno\n",
      "    copying ephem/tests/usno/risettran_rigel.txt -> build/lib.macosx-10.7-x86_64-3.7/ephem/tests/usno\n",
      "    copying ephem/tests/usno/risettran_moon.txt -> build/lib.macosx-10.7-x86_64-3.7/ephem/tests/usno\n",
      "    copying ephem/tests/usno/astrom_neptune.txt -> build/lib.macosx-10.7-x86_64-3.7/ephem/tests/usno\n",
      "    copying ephem/tests/usno/riset_sun.txt -> build/lib.macosx-10.7-x86_64-3.7/ephem/tests/usno\n",
      "    copying ephem/tests/usno/apptopo_sun.txt -> build/lib.macosx-10.7-x86_64-3.7/ephem/tests/usno\n",
      "    copying ephem/tests/usno/appgeo_moon.txt -> build/lib.macosx-10.7-x86_64-3.7/ephem/tests/usno\n",
      "    copying ephem/tests/usno/appgeo_jupiter.txt -> build/lib.macosx-10.7-x86_64-3.7/ephem/tests/usno\n",
      "    copying ephem/tests/usno/astrom_antares.txt -> build/lib.macosx-10.7-x86_64-3.7/ephem/tests/usno\n",
      "    copying ephem/tests/usno/moon_phases.txt -> build/lib.macosx-10.7-x86_64-3.7/ephem/tests/usno\n",
      "    copying ephem/tests/usno/riset_moon.txt -> build/lib.macosx-10.7-x86_64-3.7/ephem/tests/usno\n",
      "    copying ephem/tests/usno/appgeo_sun.txt -> build/lib.macosx-10.7-x86_64-3.7/ephem/tests/usno\n",
      "    running build_ext\n",
      "    building 'ephem._libastro' extension\n",
      "    creating build/temp.macosx-10.7-x86_64-3.7\n",
      "    creating build/temp.macosx-10.7-x86_64-3.7/extensions\n",
      "    creating build/temp.macosx-10.7-x86_64-3.7/libastro-3.7.6\n",
      "    creating build/temp.macosx-10.7-x86_64-3.7/extensions/data\n",
      "    gcc -Wno-unused-result -Wsign-compare -Wunreachable-code -DNDEBUG -g -fwrapv -O3 -Wall -Wstrict-prototypes -I/Users/huntersapienza/anaconda3/include -arch x86_64 -I/Users/huntersapienza/anaconda3/include -arch x86_64 -Ilibastro-3.7.6 -I/Users/huntersapienza/anaconda3/include/python3.7m -c extensions/_libastro.c -o build/temp.macosx-10.7-x86_64-3.7/extensions/_libastro.o\n",
      "    xcrun: error: invalid active developer path (/Library/Developer/CommandLineTools), missing xcrun at: /Library/Developer/CommandLineTools/usr/bin/xcrun\n",
      "    error: command 'gcc' failed with exit status 1\n",
      "    \n",
      "    ----------------------------------------\n",
      "\u001b[31mCommand \"/Users/huntersapienza/anaconda3/bin/python -u -c \"import setuptools, tokenize;__file__='/private/var/folders/ld/7wh0qtq11w59j1kd0dq1kcwm0000gn/T/pip-install-5x8e8zpu/ephem/setup.py';f=getattr(tokenize, 'open', open)(__file__);code=f.read().replace('\\r\\n', '\\n');f.close();exec(compile(code, __file__, 'exec'))\" install --record /private/var/folders/ld/7wh0qtq11w59j1kd0dq1kcwm0000gn/T/pip-record-p7zospwa/install-record.txt --single-version-externally-managed --compile\" failed with error code 1 in /private/var/folders/ld/7wh0qtq11w59j1kd0dq1kcwm0000gn/T/pip-install-5x8e8zpu/ephem/\u001b[0m\n",
      "\u001b[?25h"
     ]
    }
   ],
   "source": [
    "!pip install fbprophet"
   ]
  },
  {
   "cell_type": "markdown",
   "metadata": {},
   "source": [
    "Let's start by reading in our time-series data. We shall cover some data manipulation using pandas, accessing financial data using the `Quandl` library and, and plotting with matplotlib. "
   ]
  },
  {
   "cell_type": "code",
   "execution_count": 10,
   "metadata": {},
   "outputs": [
    {
     "ename": "ModuleNotFoundError",
     "evalue": "No module named 'fbprophet'",
     "output_type": "error",
     "traceback": [
      "\u001b[0;31m---------------------------------------------------------------------------\u001b[0m",
      "\u001b[0;31mModuleNotFoundError\u001b[0m                       Traceback (most recent call last)",
      "\u001b[0;32m<ipython-input-10-364707a85bab>\u001b[0m in \u001b[0;36m<module>\u001b[0;34m()\u001b[0m\n\u001b[1;32m     14\u001b[0m \u001b[0mplt\u001b[0m\u001b[0;34m.\u001b[0m\u001b[0mstyle\u001b[0m\u001b[0;34m.\u001b[0m\u001b[0muse\u001b[0m\u001b[0;34m(\u001b[0m\u001b[0;34m'fivethirtyeight'\u001b[0m\u001b[0;34m)\u001b[0m\u001b[0;34m\u001b[0m\u001b[0m\n\u001b[1;32m     15\u001b[0m \u001b[0;34m\u001b[0m\u001b[0m\n\u001b[0;32m---> 16\u001b[0;31m \u001b[0;32mfrom\u001b[0m \u001b[0mfbprophet\u001b[0m \u001b[0;32mimport\u001b[0m \u001b[0mProphet\u001b[0m \u001b[0;32mas\u001b[0m \u001b[0mproph\u001b[0m\u001b[0;34m\u001b[0m\u001b[0m\n\u001b[0m",
      "\u001b[0;31mModuleNotFoundError\u001b[0m: No module named 'fbprophet'"
     ]
    }
   ],
   "source": [
    "#Import necessary libraries\n",
    "import warnings\n",
    "warnings.filterwarnings('ignore')\n",
    "\n",
    "\n",
    "import pandas as pd \n",
    "\n",
    "# Matplotlib for plotting\n",
    "import matplotlib.pyplot as plt\n",
    "import matplotlib\n",
    "import seaborn as sns\n",
    "%matplotlib inline\n",
    "from matplotlib.pylab import rcParams\n",
    "plt.style.use('fivethirtyeight')\n",
    "\n",
    "from fbprophet import Prophet as proph\n"
   ]
  },
  {
   "cell_type": "code",
   "execution_count": 11,
   "metadata": {},
   "outputs": [],
   "source": [
    "# Import passengers.csv and set it as a time-series object. \n",
    "ts = pd.read_csv('passengers.csv')\n",
    "ts['Month'] = pd.DatetimeIndex(ts['Month'])"
   ]
  },
  {
   "cell_type": "markdown",
   "metadata": {},
   "source": [
    "The prophet library also imposes the strict condition that the input columns be named `ds` (the time column) and `y` (the metric column), so let's rename the columns in our `ts` dataframe. "
   ]
  },
  {
   "cell_type": "code",
   "execution_count": 12,
   "metadata": {},
   "outputs": [
    {
     "data": {
      "text/html": [
       "<div>\n",
       "<style scoped>\n",
       "    .dataframe tbody tr th:only-of-type {\n",
       "        vertical-align: middle;\n",
       "    }\n",
       "\n",
       "    .dataframe tbody tr th {\n",
       "        vertical-align: top;\n",
       "    }\n",
       "\n",
       "    .dataframe thead th {\n",
       "        text-align: right;\n",
       "    }\n",
       "</style>\n",
       "<table border=\"1\" class=\"dataframe\">\n",
       "  <thead>\n",
       "    <tr style=\"text-align: right;\">\n",
       "      <th></th>\n",
       "      <th>ds</th>\n",
       "      <th>y</th>\n",
       "    </tr>\n",
       "  </thead>\n",
       "  <tbody>\n",
       "    <tr>\n",
       "      <th>0</th>\n",
       "      <td>1949-01-01</td>\n",
       "      <td>112</td>\n",
       "    </tr>\n",
       "    <tr>\n",
       "      <th>1</th>\n",
       "      <td>1949-02-01</td>\n",
       "      <td>118</td>\n",
       "    </tr>\n",
       "    <tr>\n",
       "      <th>2</th>\n",
       "      <td>1949-03-01</td>\n",
       "      <td>132</td>\n",
       "    </tr>\n",
       "    <tr>\n",
       "      <th>3</th>\n",
       "      <td>1949-04-01</td>\n",
       "      <td>129</td>\n",
       "    </tr>\n",
       "    <tr>\n",
       "      <th>4</th>\n",
       "      <td>1949-05-01</td>\n",
       "      <td>121</td>\n",
       "    </tr>\n",
       "  </tbody>\n",
       "</table>\n",
       "</div>"
      ],
      "text/plain": [
       "          ds    y\n",
       "0 1949-01-01  112\n",
       "1 1949-02-01  118\n",
       "2 1949-03-01  132\n",
       "3 1949-04-01  129\n",
       "4 1949-05-01  121"
      ]
     },
     "execution_count": 12,
     "metadata": {},
     "output_type": "execute_result"
    }
   ],
   "source": [
    "# Rename the columns [Month, AirPassengers] to [ds, y]\n",
    "ts = ts.rename(columns={'Month': 'ds',\n",
    "                        '#Passengers': 'y'})\n",
    "\n",
    "ts.head(5)\n",
    "\n",
    "\n",
    "#    ds          y\n",
    "# 1949-01-01\t112\n",
    "# 1949-02-01\t118\n",
    "# 1949-03-01\t132\n",
    "# 1949-04-01\t129\n",
    "# 1949-05-01\t121"
   ]
  },
  {
   "cell_type": "code",
   "execution_count": 13,
   "metadata": {},
   "outputs": [
    {
     "data": {
      "image/png": "[encoded data removed]",
      "text/plain": [
       "<Figure size 1080x576 with 1 Axes>"
      ]
     },
     "metadata": {},
     "output_type": "display_data"
    }
   ],
   "source": [
    "\n",
    "# Plot the timeseries \n",
    "\n",
    "ax = ts.set_index('ds').plot(figsize=(15, 8))\n",
    "ax.set_ylabel('No. of Airline Passengers/Month')\n",
    "ax.set_xlabel('Date')\n",
    "\n",
    "plt.show()"
   ]
  },
  {
   "cell_type": "code",
   "execution_count": null,
   "metadata": {},
   "outputs": [],
   "source": []
  },
  {
   "cell_type": "markdown",
   "metadata": {},
   "source": [
    "## Time Series Forecasting with Prophet\n",
    "\n",
    "In this section, we shall learn how to use the Prophet library to predict future values of our time-series. The Facebook team has abstracted away many of the inherent complexities of time series forecasting and made it more intuitive for analysts and developers alike to work with time series data.\n",
    "\n",
    "To begin, we will create a new prophet object with `proph()` and provide a number of arguments. For example, we can specify the desired range of our uncertainty interval by setting the `interval_width` parameter."
   ]
  },
  {
   "cell_type": "code",
   "execution_count": 14,
   "metadata": {},
   "outputs": [
    {
     "ename": "NameError",
     "evalue": "name 'proph' is not defined",
     "output_type": "error",
     "traceback": [
      "\u001b[0;31m---------------------------------------------------------------------------\u001b[0m",
      "\u001b[0;31mNameError\u001b[0m                                 Traceback (most recent call last)",
      "\u001b[0;32m<ipython-input-14-0189349f401c>\u001b[0m in \u001b[0;36m<module>\u001b[0;34m()\u001b[0m\n\u001b[1;32m      1\u001b[0m \u001b[0;31m# set the uncertainty interval to 95% (the Prophet default is 80%)\u001b[0m\u001b[0;34m\u001b[0m\u001b[0;34m\u001b[0m\u001b[0m\n\u001b[0;32m----> 2\u001b[0;31m \u001b[0mModel\u001b[0m \u001b[0;34m=\u001b[0m \u001b[0mproph\u001b[0m\u001b[0;34m(\u001b[0m\u001b[0minterval_width\u001b[0m\u001b[0;34m=\u001b[0m\u001b[0;36m0.95\u001b[0m\u001b[0;34m)\u001b[0m\u001b[0;34m\u001b[0m\u001b[0m\n\u001b[0m",
      "\u001b[0;31mNameError\u001b[0m: name 'proph' is not defined"
     ]
    }
   ],
   "source": [
    "# set the uncertainty interval to 95% (the Prophet default is 80%)\n",
    "Model = proph(interval_width=0.95)"
   ]
  },
  {
   "cell_type": "markdown",
   "metadata": {},
   "source": [
    "Now that our model has been initialized, we can call its `fit` method with our DataFrame `ts` as input. The model fitting should take no longer than a few seconds."
   ]
  },
  {
   "cell_type": "code",
   "execution_count": 15,
   "metadata": {},
   "outputs": [
    {
     "ename": "NameError",
     "evalue": "name 'Model' is not defined",
     "output_type": "error",
     "traceback": [
      "\u001b[0;31m---------------------------------------------------------------------------\u001b[0m",
      "\u001b[0;31mNameError\u001b[0m                                 Traceback (most recent call last)",
      "\u001b[0;32m<ipython-input-15-f775f4437760>\u001b[0m in \u001b[0;36m<module>\u001b[0;34m()\u001b[0m\n\u001b[1;32m      1\u001b[0m \u001b[0;31m# Fit the timeseries into Model\u001b[0m\u001b[0;34m\u001b[0m\u001b[0;34m\u001b[0m\u001b[0m\n\u001b[0;32m----> 2\u001b[0;31m \u001b[0mModel\u001b[0m\u001b[0;34m.\u001b[0m\u001b[0mfit\u001b[0m\u001b[0;34m(\u001b[0m\u001b[0mts\u001b[0m\u001b[0;34m)\u001b[0m\u001b[0;34m\u001b[0m\u001b[0m\n\u001b[0m",
      "\u001b[0;31mNameError\u001b[0m: name 'Model' is not defined"
     ]
    }
   ],
   "source": [
    "# Fit the timeseries into Model\n",
    "Model.fit(ts)"
   ]
  },
  {
   "cell_type": "markdown",
   "metadata": {},
   "source": [
    "In order to obtain forecasts of our time series, we must provide the model with a new dataframe containing a `ds` column that holds the dates for which we want predictions. Conveniently, we do not have to concern ourselves with manually creating this dataframe because prophet provides the `make_future_dataframe` helper function. We will call this function to generate 36 datestamps in the future. The documentation for this function is available [HERE](https://www.rdocumentation.org/packages/prophet/versions/0.3.0.1/topics/make_future_dataframe).\n",
    "\n",
    "It is also important to consider the frequency of our time series. Because we are working with monthly data, we clearly specified the desired frequency of the timestamps (in this case, MS is the start of the month). Therefore, the `make_future_dataframe` will generate 36 monthly timestamps for us. In other words, we are looking to predict future values of our time series 3 years into the future.\n"
   ]
  },
  {
   "cell_type": "code",
   "execution_count": 16,
   "metadata": {},
   "outputs": [
    {
     "ename": "NameError",
     "evalue": "name 'Model' is not defined",
     "output_type": "error",
     "traceback": [
      "\u001b[0;31m---------------------------------------------------------------------------\u001b[0m",
      "\u001b[0;31mNameError\u001b[0m                                 Traceback (most recent call last)",
      "\u001b[0;32m<ipython-input-16-0739f37a58dc>\u001b[0m in \u001b[0;36m<module>\u001b[0;34m()\u001b[0m\n\u001b[1;32m      1\u001b[0m \u001b[0;31m# USe make_future_dataframe with a monthly frequency and periods = 36 for 3 years\u001b[0m\u001b[0;34m\u001b[0m\u001b[0;34m\u001b[0m\u001b[0m\n\u001b[0;32m----> 2\u001b[0;31m \u001b[0mfuture_dates\u001b[0m \u001b[0;34m=\u001b[0m \u001b[0mModel\u001b[0m\u001b[0;34m.\u001b[0m\u001b[0mmake_future_dataframe\u001b[0m\u001b[0;34m(\u001b[0m\u001b[0mperiods\u001b[0m\u001b[0;34m=\u001b[0m\u001b[0;36m36\u001b[0m\u001b[0;34m,\u001b[0m \u001b[0mfreq\u001b[0m\u001b[0;34m=\u001b[0m\u001b[0;34m'MS'\u001b[0m\u001b[0;34m)\u001b[0m\u001b[0;34m\u001b[0m\u001b[0m\n\u001b[0m\u001b[1;32m      3\u001b[0m \u001b[0mfuture_dates\u001b[0m\u001b[0;34m.\u001b[0m\u001b[0mtail\u001b[0m\u001b[0;34m(\u001b[0m\u001b[0;34m)\u001b[0m\u001b[0;34m\u001b[0m\u001b[0m\n\u001b[1;32m      4\u001b[0m \u001b[0;34m\u001b[0m\u001b[0m\n\u001b[1;32m      5\u001b[0m \u001b[0;31m#       ds\u001b[0m\u001b[0;34m\u001b[0m\u001b[0;34m\u001b[0m\u001b[0m\n",
      "\u001b[0;31mNameError\u001b[0m: name 'Model' is not defined"
     ]
    }
   ],
   "source": [
    "# USe make_future_dataframe with a monthly frequency and periods = 36 for 3 years\n",
    "future_dates = Model.make_future_dataframe(periods=36, freq='MS')\n",
    "future_dates.tail()\n",
    "\n",
    "# \tds\n",
    "# 175\t1963-08-01\n",
    "# 176\t1963-09-01\n",
    "# 177\t1963-10-01\n",
    "# 178\t1963-11-01\n",
    "# 179\t1963-12-01"
   ]
  },
  {
   "cell_type": "markdown",
   "metadata": {},
   "source": [
    "This future dates dataframe can now be used as input to the `predict` method of the fitted model."
   ]
  },
  {
   "cell_type": "code",
   "execution_count": 17,
   "metadata": {},
   "outputs": [
    {
     "ename": "NameError",
     "evalue": "name 'Model' is not defined",
     "output_type": "error",
     "traceback": [
      "\u001b[0;31m---------------------------------------------------------------------------\u001b[0m",
      "\u001b[0;31mNameError\u001b[0m                                 Traceback (most recent call last)",
      "\u001b[0;32m<ipython-input-17-cf473a3d30d3>\u001b[0m in \u001b[0;36m<module>\u001b[0;34m()\u001b[0m\n\u001b[1;32m      1\u001b[0m \u001b[0;31m# Predict the values for future dates and take the head of forecast\u001b[0m\u001b[0;34m\u001b[0m\u001b[0;34m\u001b[0m\u001b[0m\n\u001b[0;32m----> 2\u001b[0;31m \u001b[0mforecast\u001b[0m \u001b[0;34m=\u001b[0m \u001b[0mModel\u001b[0m\u001b[0;34m.\u001b[0m\u001b[0mpredict\u001b[0m\u001b[0;34m(\u001b[0m\u001b[0mfuture_dates\u001b[0m\u001b[0;34m)\u001b[0m\u001b[0;34m\u001b[0m\u001b[0m\n\u001b[0m\u001b[1;32m      3\u001b[0m \u001b[0mforecast\u001b[0m\u001b[0;34m.\u001b[0m\u001b[0mhead\u001b[0m\u001b[0;34m(\u001b[0m\u001b[0;34m)\u001b[0m\u001b[0;34m\u001b[0m\u001b[0m\n\u001b[1;32m      4\u001b[0m \u001b[0;34m\u001b[0m\u001b[0m\n\u001b[1;32m      5\u001b[0m \u001b[0;31m# ds    trend   trend_lower     trend_upper     yhat_lower      yhat_upper      additive_terms  additive_terms_lower    additive_terms_upper    multiplicative_terms    multiplicative_terms_lower      multiplicative_terms_upper      yearly  yearly_lower    yearly_upper    yhat\u001b[0m\u001b[0;34m\u001b[0m\u001b[0;34m\u001b[0m\u001b[0m\n",
      "\u001b[0;31mNameError\u001b[0m: name 'Model' is not defined"
     ]
    }
   ],
   "source": [
    "# Predict the values for future dates and take the head of forecast\n",
    "forecast = Model.predict(future_dates)\n",
    "forecast.head()\n",
    "\n",
    "# ds\ttrend\ttrend_lower\ttrend_upper\tyhat_lower\tyhat_upper\tadditive_terms\tadditive_terms_lower\tadditive_terms_upper\tmultiplicative_terms\tmultiplicative_terms_lower\tmultiplicative_terms_upper\tyearly\tyearly_lower\tyearly_upper\tyhat\n",
    "# 0\t1949-01-01\t106.390966\t106.390966\t106.390966\t40.066461\t128.916059\t-21.935305\t-21.935305\t-21.935305\t0.0\t0.0\t0.0\t-21.935305\t-21.935305\t-21.935305\t84.455661\n",
    "# 1\t1949-02-01\t108.569855\t108.569855\t108.569855\t33.931775\t120.662906\t-30.703975\t-30.703975\t-30.703975\t0.0\t0.0\t0.0\t-30.703975\t-30.703975\t-30.703975\t77.865881\n",
    "# 2\t1949-03-01\t110.537884\t110.537884\t110.537884\t65.902441\t152.751003\t-0.486998\t-0.486998\t-0.486998\t0.0\t0.0\t0.0\t-0.486998\t-0.486998\t-0.486998\t110.050887\n",
    "# 3\t1949-04-01\t112.716774\t112.716774\t112.716774\t65.488925\t149.317057\t-5.184948\t-5.184948\t-5.184948\t0.0\t0.0\t0.0\t-5.184948\t-5.184948\t-5.184948\t107.531826\n",
    "# 4\t1949-05-01\t114.825377\t114.825377\t114.825377\t67.562029\t153.611413\t-3.782347\t-3.782347\t-3.782347\t0.0\t0.0"
   ]
  },
  {
   "cell_type": "markdown",
   "metadata": {},
   "source": [
    "We can see that prophet returns a large table with many interesting columns, but we subset our output to the columns most relevant to forecasting, which are:\n",
    "\n",
    "* `ds`: the datestamp of the forecasted value\n",
    "* `yhat`: the forecasted value of our metric (in Statistics, yhat is a notation traditionally used to represent the predicted values of a value y)\n",
    "* `yhat_lower`: the lower bound of our forecasts\n",
    "* `yhat_upper`: the upper bound of our forecasts"
   ]
  },
  {
   "cell_type": "code",
   "execution_count": 18,
   "metadata": {},
   "outputs": [
    {
     "ename": "NameError",
     "evalue": "name 'forecast' is not defined",
     "output_type": "error",
     "traceback": [
      "\u001b[0;31m---------------------------------------------------------------------------\u001b[0m",
      "\u001b[0;31mNameError\u001b[0m                                 Traceback (most recent call last)",
      "\u001b[0;32m<ipython-input-18-f4f9677126ed>\u001b[0m in \u001b[0;36m<module>\u001b[0;34m()\u001b[0m\n\u001b[1;32m      1\u001b[0m \u001b[0;31m# Subset above mentioned columns and view the tail\u001b[0m\u001b[0;34m\u001b[0m\u001b[0;34m\u001b[0m\u001b[0m\n\u001b[0;32m----> 2\u001b[0;31m \u001b[0mforecast\u001b[0m\u001b[0;34m[\u001b[0m\u001b[0;34m[\u001b[0m\u001b[0;34m'ds'\u001b[0m\u001b[0;34m,\u001b[0m \u001b[0;34m'yhat'\u001b[0m\u001b[0;34m,\u001b[0m \u001b[0;34m'yhat_lower'\u001b[0m\u001b[0;34m,\u001b[0m \u001b[0;34m'yhat_upper'\u001b[0m\u001b[0;34m]\u001b[0m\u001b[0;34m]\u001b[0m\u001b[0;34m.\u001b[0m\u001b[0mtail\u001b[0m\u001b[0;34m(\u001b[0m\u001b[0;34m)\u001b[0m\u001b[0;34m\u001b[0m\u001b[0m\n\u001b[0m\u001b[1;32m      3\u001b[0m \u001b[0;34m\u001b[0m\u001b[0m\n\u001b[1;32m      4\u001b[0m \u001b[0;34m\u001b[0m\u001b[0m\n\u001b[1;32m      5\u001b[0m \u001b[0;31m#       ds      yhat    yhat_lower      yhat_upper\u001b[0m\u001b[0;34m\u001b[0m\u001b[0;34m\u001b[0m\u001b[0m\n",
      "\u001b[0;31mNameError\u001b[0m: name 'forecast' is not defined"
     ]
    }
   ],
   "source": [
    "# Subset above mentioned columns and view the tail \n",
    "forecast[['ds', 'yhat', 'yhat_lower', 'yhat_upper']].tail()\n",
    "\n",
    "\n",
    "# \tds\tyhat\tyhat_lower\tyhat_upper\n",
    "# 175\t1963-08-01\t649.787427\t604.921338\t695.757506\n",
    "# 176\t1963-09-01\t602.260711\t557.213400\t645.642244\n",
    "# 177\t1963-10-01\t566.233600\t524.324314\t608.815224\n",
    "# 178\t1963-11-01\t534.258296\t488.622666\t578.243727\n",
    "# 179\t1963-12-01\t563.846779\t516.242796\t609.748779"
   ]
  },
  {
   "cell_type": "markdown",
   "metadata": {},
   "source": [
    "A variation in values from the output presented above is to be expected as Prophet relies on Markov chain Monte Carlo (MCMC) methods to generate its forecasts. MCMC is a stochastic process, so values will be slightly different each time.\n",
    "\n",
    "Prophet also provides a convenient function to quickly plot the results of our forecasts."
   ]
  },
  {
   "cell_type": "code",
   "execution_count": 29,
   "metadata": {},
   "outputs": [],
   "source": [
    "# Use prophet's plot function to plot the predictions\n",
    "Model.plot(forecast, uncertainty=True)\n",
    "plt.show()"
   ]
  },
  {
   "cell_type": "code",
   "execution_count": null,
   "metadata": {},
   "outputs": [],
   "source": []
  },
  {
   "cell_type": "markdown",
   "metadata": {},
   "source": [
    "Prophet plots the observed values of the time-series (the black dots), the forecasted values (blue line) and the uncertainty intervals of our forecasts (the blue shaded regions).\n",
    "\n",
    "One other particularly strong feature of Prophet is its ability to return the components of our forecasts. This can help reveal how daily, weekly and yearly patterns of the time series contribute to the overall forecasted values. We can use `plot_components()` function to view the individual components."
   ]
  },
  {
   "cell_type": "code",
   "execution_count": 30,
   "metadata": {},
   "outputs": [],
   "source": [
    "# Plot model components\n",
    "\n",
    "Model.plot_components(forecast)\n",
    "plt.show()"
   ]
  },
  {
   "cell_type": "code",
   "execution_count": null,
   "metadata": {},
   "outputs": [],
   "source": []
  },
  {
   "cell_type": "markdown",
   "metadata": {},
   "source": [
    "Since we are working with monthly data, Prophet will plot the trend and the yearly seasonality but if you were working with daily data, you would also see a weekly seasonality plot included."
   ]
  },
  {
   "cell_type": "markdown",
   "metadata": {},
   "source": [
    "From the trend and seasonality, we can see that the trend is a playing a large part in the underlying time series and seasonality comes into play mostly toward the beginning and the end of the year. With this information, we’ve been able to quickly model and forecast some data to get a feel for what might be coming our way in the future from this particular data set."
   ]
  },
  {
   "cell_type": "markdown",
   "metadata": {},
   "source": [
    "## Summary \n",
    "In this lab, we learnt how to use the Prophet library to perform time series forecasting in Python. We have been using out-of-the box parameters, but Prophet enables us to specify many more arguments. In particular, Prophet provides the functionality to bring your own knowledge about time series to the table."
   ]
  }
 ],
 "metadata": {
  "kernelspec": {
   "display_name": "Python 3",
   "language": "python",
   "name": "python3"
  },
  "language_info": {
   "codemirror_mode": {
    "name": "ipython",
    "version": 3
   },
   "file_extension": ".py",
   "mimetype": "text/x-python",
   "name": "python",
   "nbconvert_exporter": "python",
   "pygments_lexer": "ipython3",
   "version": "3.7.0"
  }
 },
 "nbformat": 4,
 "nbformat_minor": 2
}
